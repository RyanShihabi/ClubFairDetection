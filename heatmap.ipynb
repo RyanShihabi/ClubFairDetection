{
 "cells": [
  {
   "cell_type": "code",
   "execution_count": 1,
   "id": "9dd54d32-6b06-425c-a76e-93341738511c",
   "metadata": {},
   "outputs": [],
   "source": [
    "import json\n",
    "import pandas as pd\n",
    "import matplotlib.pyplot as plt\n",
    "import seaborn as sns\n",
    "import numpy as np\n",
    "from scipy.stats import gaussian_kde\n",
    "%matplotlib inline"
   ]
  },
  {
   "cell_type": "code",
   "execution_count": 2,
   "id": "ddde0dba-2b2a-4c10-b568-c58ddddd9e77",
   "metadata": {},
   "outputs": [],
   "source": [
    "df = pd.read_csv(\"club_fair_pos.csv\")\n",
    "x = df[\"x\"]\n",
    "y = df[\"y\"]"
   ]
  },
  {
   "cell_type": "code",
   "execution_count": 3,
   "id": "0ddb46b8-8673-48fe-8e9b-136f0d63426b",
   "metadata": {},
   "outputs": [
    {
     "data": {
      "text/plain": [
       "1073"
      ]
     },
     "execution_count": 3,
     "metadata": {},
     "output_type": "execute_result"
    }
   ],
   "source": [
    "np.max(y)"
   ]
  },
  {
   "cell_type": "code",
   "execution_count": null,
   "id": "f92aa146-2318-40c8-bc78-ec216d1db7e2",
   "metadata": {},
   "outputs": [],
   "source": [
    "xy = np.vstack([x,y])\n",
    "z = gaussian_kde(xy)(xy) * 1e7\n",
    "\n",
    "fig, ax = plt.subplots(figsize=(16, 9), facecolor=\"white\")\n",
    "sp = ax.scatter(x, y, c=z, s=200)\n",
    "plt.xlabel(\"X Position\", fontsize=16)\n",
    "plt.ylabel(\"Y Position\", fontsize=16)\n",
    "plt.title(\"Chapman Club Fair Head Count\", fontsize=18)\n",
    "cb = fig.colorbar(sp, ax=ax)\n",
    "plt.gca().invert_yaxis()\n",
    "plt.show()"
   ]
  }
 ],
 "metadata": {
  "kernelspec": {
   "display_name": "Python 3 (ipykernel)",
   "language": "python",
   "name": "python3"
  },
  "language_info": {
   "codemirror_mode": {
    "name": "ipython",
    "version": 3
   },
   "file_extension": ".py",
   "mimetype": "text/x-python",
   "name": "python",
   "nbconvert_exporter": "python",
   "pygments_lexer": "ipython3",
   "version": "3.9.9"
  },
  "vscode": {
   "interpreter": {
    "hash": "386d90469c4663804034c8ce16db9545580a8ac212daa748eab4576b4a4cf997"
   }
  }
 },
 "nbformat": 4,
 "nbformat_minor": 5
}
